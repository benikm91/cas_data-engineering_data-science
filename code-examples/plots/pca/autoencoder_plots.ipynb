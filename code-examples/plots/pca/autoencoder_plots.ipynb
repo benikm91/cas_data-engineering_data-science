{
 "cells": [
  {
   "cell_type": "code",
   "execution_count": 49,
   "outputs": [],
   "source": [
    "import pandas as pd\n",
    "import matplotlib.pyplot as plt\n",
    "import seaborn as sns\n",
    "import numpy as np\n",
    "import os\n",
    "import tensorflow as tf"
   ],
   "metadata": {
    "collapsed": false,
    "pycharm": {
     "name": "#%%\n"
    }
   }
  },
  {
   "cell_type": "code",
   "execution_count": 50,
   "outputs": [],
   "source": [
    "out_dir = os.path.join(os.getcwd(), \"../../out/pca\")"
   ],
   "metadata": {
    "collapsed": false,
    "pycharm": {
     "name": "#%%\n"
    }
   }
  },
  {
   "cell_type": "code",
   "execution_count": 51,
   "outputs": [],
   "source": [
    "from sklearn.preprocessing import StandardScaler\n",
    "\n",
    "n_samples = 100000\n",
    "\n",
    "x1 = np.arange(n_samples) / n_samples * 50\n",
    "\n",
    "x_train = pd.DataFrame(StandardScaler().fit_transform(pd.DataFrame({\n",
    "    \"x1\": x1,\n",
    "    \"x2\": np.sin(x1 / 7.5)\n",
    "})), columns=['x1', 'x2'])"
   ],
   "metadata": {
    "collapsed": false,
    "pycharm": {
     "name": "#%%\n"
    }
   }
  },
  {
   "cell_type": "code",
   "execution_count": 52,
   "outputs": [],
   "source": [
    "from tensorflow.keras import layers, losses\n",
    "from tensorflow.keras.models import Model\n",
    "\n",
    "\n",
    "class Autoencoder(Model):\n",
    "    def __init__(self):\n",
    "        super(Autoencoder, self).__init__()\n",
    "        self.encoder = tf.keras.Sequential([\n",
    "            layers.Dense(20, activation='relu'),\n",
    "            layers.Dense(1),\n",
    "        ])\n",
    "        self.decoder = tf.keras.Sequential([\n",
    "            layers.Dense(20, activation='relu'),\n",
    "            layers.Dense(2),\n",
    "        ])\n",
    "\n",
    "    def call(self, x):\n",
    "        encoded = self.encoder(x)\n",
    "        decoded = self.decoder(encoded)\n",
    "        return decoded\n",
    "\n",
    "\n",
    "autoencoder = Autoencoder()\n",
    "autoencoder.compile(optimizer='adam', loss=losses.MeanSquaredError())\n"
   ],
   "metadata": {
    "collapsed": false,
    "pycharm": {
     "name": "#%%\n"
    }
   }
  },
  {
   "cell_type": "code",
   "execution_count": 57,
   "outputs": [
    {
     "name": "stdout",
     "output_type": "stream",
     "text": [
      "Epoch 1/50\n",
      "3125/3125 [==============================] - 3s 1ms/step - loss: 0.0030\n",
      "Epoch 2/50\n",
      "3125/3125 [==============================] - 4s 1ms/step - loss: 0.0031\n",
      "Epoch 3/50\n",
      "3125/3125 [==============================] - 4s 1ms/step - loss: 0.0028\n",
      "Epoch 4/50\n",
      "3125/3125 [==============================] - 3s 1ms/step - loss: 0.0029\n",
      "Epoch 5/50\n",
      "3125/3125 [==============================] - 4s 1ms/step - loss: 0.0040\n",
      "Epoch 6/50\n",
      "3125/3125 [==============================] - 3s 1ms/step - loss: 0.0040\n",
      "Epoch 7/50\n",
      "3125/3125 [==============================] - 4s 1ms/step - loss: 0.0034\n",
      "Epoch 8/50\n",
      "3125/3125 [==============================] - 4s 1ms/step - loss: 0.0028\n",
      "Epoch 9/50\n",
      "3125/3125 [==============================] - 4s 1ms/step - loss: 0.0028\n",
      "Epoch 10/50\n",
      "3125/3125 [==============================] - 4s 1ms/step - loss: 0.0028\n",
      "Epoch 11/50\n",
      "3125/3125 [==============================] - 4s 1ms/step - loss: 0.0029\n",
      "Epoch 12/50\n",
      "3125/3125 [==============================] - 4s 1ms/step - loss: 0.0028\n",
      "Epoch 13/50\n",
      "3125/3125 [==============================] - 4s 1ms/step - loss: 0.0029\n",
      "Epoch 14/50\n",
      "3125/3125 [==============================] - 4s 1ms/step - loss: 0.0030\n",
      "Epoch 15/50\n",
      "3125/3125 [==============================] - 4s 1ms/step - loss: 0.0027\n",
      "Epoch 16/50\n",
      "3125/3125 [==============================] - 4s 1ms/step - loss: 0.0027\n",
      "Epoch 17/50\n",
      "3125/3125 [==============================] - 4s 1ms/step - loss: 0.0026\n",
      "Epoch 18/50\n",
      "3125/3125 [==============================] - 4s 1ms/step - loss: 0.0025\n",
      "Epoch 19/50\n",
      "3125/3125 [==============================] - 4s 1ms/step - loss: 0.0024\n",
      "Epoch 20/50\n",
      "3125/3125 [==============================] - 4s 1ms/step - loss: 0.0023\n",
      "Epoch 21/50\n",
      "3125/3125 [==============================] - 4s 1ms/step - loss: 0.0023\n",
      "Epoch 22/50\n",
      "3125/3125 [==============================] - 4s 1ms/step - loss: 0.0020\n",
      "Epoch 23/50\n",
      "3125/3125 [==============================] - 4s 1ms/step - loss: 0.0018\n",
      "Epoch 24/50\n",
      "3125/3125 [==============================] - 4s 1ms/step - loss: 0.0015\n",
      "Epoch 25/50\n",
      "3125/3125 [==============================] - 4s 1ms/step - loss: 0.0013\n",
      "Epoch 26/50\n",
      "3125/3125 [==============================] - 4s 1ms/step - loss: 0.0011\n",
      "Epoch 27/50\n",
      "3125/3125 [==============================] - 4s 1ms/step - loss: 9.8059e-04\n",
      "Epoch 28/50\n",
      "3125/3125 [==============================] - 4s 1ms/step - loss: 8.6279e-04\n",
      "Epoch 29/50\n",
      "3125/3125 [==============================] - 3s 1ms/step - loss: 7.8066e-04\n",
      "Epoch 30/50\n",
      "3125/3125 [==============================] - 3s 1ms/step - loss: 7.3003e-04\n",
      "Epoch 31/50\n",
      "3125/3125 [==============================] - 3s 1ms/step - loss: 6.4850e-04\n",
      "Epoch 32/50\n",
      "3125/3125 [==============================] - 4s 1ms/step - loss: 5.9179e-04\n",
      "Epoch 33/50\n",
      "3125/3125 [==============================] - 3s 1ms/step - loss: 5.3816e-04\n",
      "Epoch 34/50\n",
      "3125/3125 [==============================] - 3s 1ms/step - loss: 4.9186e-04\n",
      "Epoch 35/50\n",
      "3125/3125 [==============================] - 3s 1ms/step - loss: 4.7476e-04\n",
      "Epoch 36/50\n",
      "3125/3125 [==============================] - 3s 1ms/step - loss: 4.6308e-04\n",
      "Epoch 37/50\n",
      "3125/3125 [==============================] - 4s 1ms/step - loss: 4.3324e-04\n",
      "Epoch 38/50\n",
      "3125/3125 [==============================] - 4s 1ms/step - loss: 4.0388e-04\n",
      "Epoch 39/50\n",
      "3125/3125 [==============================] - 3s 1ms/step - loss: 4.0876e-04\n",
      "Epoch 40/50\n",
      "3125/3125 [==============================] - 4s 1ms/step - loss: 3.9123e-04\n",
      "Epoch 41/50\n",
      "3125/3125 [==============================] - 4s 1ms/step - loss: 3.8087e-04\n",
      "Epoch 42/50\n",
      "3125/3125 [==============================] - 4s 1ms/step - loss: 3.7198e-04\n",
      "Epoch 43/50\n",
      "3125/3125 [==============================] - 3s 1ms/step - loss: 3.6574e-04\n",
      "Epoch 44/50\n",
      "3125/3125 [==============================] - 4s 1ms/step - loss: 3.5471e-04\n",
      "Epoch 45/50\n",
      "3125/3125 [==============================] - 4s 1ms/step - loss: 3.5263e-04\n",
      "Epoch 46/50\n",
      "3125/3125 [==============================] - 4s 1ms/step - loss: 3.5444e-04\n",
      "Epoch 47/50\n",
      "3125/3125 [==============================] - 4s 1ms/step - loss: 3.5026e-04\n",
      "Epoch 48/50\n",
      "3125/3125 [==============================] - 3s 1ms/step - loss: 3.3246e-04\n",
      "Epoch 49/50\n",
      "3125/3125 [==============================] - 3s 1ms/step - loss: 3.3643e-04\n",
      "Epoch 50/50\n",
      "3125/3125 [==============================] - 3s 1ms/step - loss: 3.2387e-04\n"
     ]
    },
    {
     "data": {
      "text/plain": "<keras.callbacks.History at 0x13870a1f0>"
     },
     "execution_count": 57,
     "metadata": {},
     "output_type": "execute_result"
    }
   ],
   "source": [
    "autoencoder.fit(\n",
    "    x_train.values,\n",
    "    x_train.values,\n",
    "    epochs=50,\n",
    "    shuffle=True\n",
    ")"
   ],
   "metadata": {
    "collapsed": false,
    "pycharm": {
     "name": "#%%\n"
    }
   }
  },
  {
   "cell_type": "code",
   "execution_count": 65,
   "outputs": [
    {
     "data": {
      "text/plain": "<Figure size 576x288 with 2 Axes>",
      "image/png": "[encoded data removed]"
     },
     "metadata": {
      "needs_background": "light"
     },
     "output_type": "display_data"
    }
   ],
   "source": [
    "def plot_error_x_y(x1, x2, y1, y2, ax):\n",
    "    ax.plot([x1, x2], [y1, y2], c='red', alpha=0.2)\n",
    "\n",
    "x1 = np.arange(50)\n",
    "\n",
    "df_ex = pd.DataFrame(StandardScaler().fit_transform(pd.DataFrame({\n",
    "    \"x1\": x1,\n",
    "    \"x2\": np.sin(x1 / 7.5)\n",
    "})), columns=['x1', 'x2'])\n",
    "\n",
    "df_ex_encoded = autoencoder.encoder(df_ex.values).numpy()\n",
    "df_ex_reg = autoencoder.decoder(df_ex_encoded).numpy()\n",
    "\n",
    "fig, axes = plt.subplots(1, 2, figsize=(8, 4))\n",
    "\n",
    "fig.suptitle(\"Autoencoder (2-20-1-20-2) as Dimensionality Reduction\")\n",
    "sns.scatterplot(data=df_ex, x='x1', y='x2', ax=axes[0])\n",
    "sns.scatterplot(x=df_ex_reg[:, 0], y=df_ex_reg[:, 1], color=sns.color_palette()[3], ax=axes[0])\n",
    "\n",
    "for (_, row), x2, y2 in zip(df_ex.iterrows(), df_ex_reg[:, 0], df_ex_reg[:, 1]):\n",
    "    plot_error_x_y(row['x1'], x2, row['x2'], y2, axes[0])\n",
    "\n",
    "gfg = sns.stripplot(x=df_ex_encoded, jitter=0, color=sns.color_palette()[3], ax=axes[1])\n",
    "gfg.set_xlabel(\"(Learned) Latent-Feature\")\n",
    "plt.savefig(os.path.join(out_dir, 'example-data-with-model-2d-limit.png'))\n",
    "plt.show()"
   ],
   "metadata": {
    "collapsed": false,
    "pycharm": {
     "name": "#%%\n"
    }
   }
  },
  {
   "cell_type": "code",
   "execution_count": null,
   "outputs": [],
   "source": [],
   "metadata": {
    "collapsed": false,
    "pycharm": {
     "name": "#%%\n"
    }
   }
  }
 ],
 "metadata": {
  "kernelspec": {
   "display_name": "Python 3",
   "language": "python",
   "name": "python3"
  },
  "language_info": {
   "codemirror_mode": {
    "name": "ipython",
    "version": 2
   },
   "file_extension": ".py",
   "mimetype": "text/x-python",
   "name": "python",
   "nbconvert_exporter": "python",
   "pygments_lexer": "ipython2",
   "version": "2.7.6"
  }
 },
 "nbformat": 4,
 "nbformat_minor": 0
}