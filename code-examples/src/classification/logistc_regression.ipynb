{
 "cells": [
  {
   "cell_type": "markdown",
   "source": [
    "# Logistic Regression - Code\n",
    "\n",
    "In diesem Notebook schauen wir uns die `Logistic Regression` an.\n",
    "\n",
    "## Setup\n",
    "\n",
    "Setup Code muss *nicht* verstanden werden."
   ],
   "metadata": {
    "collapsed": false,
    "pycharm": {
     "name": "#%% md\n"
    }
   }
  },
  {
   "cell_type": "code",
   "execution_count": 25,
   "outputs": [],
   "source": [
    "import pandas as pd\n",
    "import matplotlib.pyplot as plt\n",
    "import seaborn as sns\n",
    "from sklearn.preprocessing import StandardScaler\n",
    "import numpy as np\n"
   ],
   "metadata": {
    "collapsed": false,
    "pycharm": {
     "name": "#%%\n"
    }
   }
  },
  {
   "cell_type": "code",
   "execution_count": 26,
   "outputs": [],
   "source": [
    "from sklearn.preprocessing import OrdinalEncoder\n",
    "from matplotlib.colors import ListedColormap\n",
    "\n",
    "\n",
    "def plot_decision_regions(X, y, classifier, resolution=0.02, same_aspect=False):\n",
    "\n",
    "    palette = dict(zip(\n",
    "        ['Other', 'Setosa'],\n",
    "        sns.color_palette()\n",
    "    ))\n",
    "\n",
    "    oe = OrdinalEncoder(categories=[['Other', 'Setosa']]).fit(y.values.reshape(-1, 1))\n",
    "\n",
    "    # y_enc = oe.transform(y.values.reshape(-1, 1))\n",
    "\n",
    "    # plot the decision surface\n",
    "    x1_min, x1_max = X[:, 0].min() - 3, X[:, 0].max() + 3\n",
    "    x2_min, x2_max = X[:, 1].min() - 3, X[:, 1].max() + 3\n",
    "    xx1, xx2 = np.meshgrid(np.arange(x1_min, x1_max, resolution),\n",
    "                           np.arange(x2_min, x2_max, resolution))\n",
    "    Z = classifier.predict(np.array([xx1.ravel(), xx2.ravel()]).T)\n",
    "    Z = oe.transform(Z.reshape(-1, 1))\n",
    "    Z = Z.reshape(xx1.shape)\n",
    "\n",
    "    plt.autoscale(True)\n",
    "    ax = sns.scatterplot(x=X[:, 0], y=X[:, 1], hue=y, palette=palette)\n",
    "\n",
    "    plt.autoscale(False)\n",
    "    ax.contourf(xx1, xx2, Z, alpha=0.4, cmap=ListedColormap(palette.values()))\n",
    "\n",
    "    if same_aspect:\n",
    "        plt.gca().set_aspect('equal', adjustable='box')\n",
    "\n",
    "    _ = ax.set_xlabel('petal length (cm)')\n",
    "    _ = ax.set_ylabel('petal width (cm)')\n",
    "    return ax"
   ],
   "metadata": {
    "collapsed": false,
    "pycharm": {
     "name": "#%%\n"
    }
   }
  },
  {
   "cell_type": "code",
   "execution_count": 27,
   "outputs": [
    {
     "data": {
      "text/plain": "     sepal length (cm)  sepal width (cm)  petal length (cm)  petal width (cm)  \\\n0            -0.900681          1.032057          -1.341272         -1.312977   \n1            -1.143017         -0.124958          -1.341272         -1.312977   \n2            -1.385353          0.337848          -1.398138         -1.312977   \n3            -1.506521          0.106445          -1.284407         -1.312977   \n4            -1.021849          1.263460          -1.341272         -1.312977   \n..                 ...               ...                ...               ...   \n145           1.038005         -0.124958           0.819624          1.447956   \n146           0.553333         -1.281972           0.705893          0.922064   \n147           0.795669         -0.124958           0.819624          1.053537   \n148           0.432165          0.800654           0.933356          1.447956   \n149           0.068662         -0.124958           0.762759          0.790591   \n\n          name  setosa versicolor  virginica  \n0       Setosa  Setosa      Other      Other  \n1       Setosa  Setosa      Other      Other  \n2       Setosa  Setosa      Other      Other  \n3       Setosa  Setosa      Other      Other  \n4       Setosa  Setosa      Other      Other  \n..         ...     ...        ...        ...  \n145  Virginica   Other      Other  Virginica  \n146  Virginica   Other      Other  Virginica  \n147  Virginica   Other      Other  Virginica  \n148  Virginica   Other      Other  Virginica  \n149  Virginica   Other      Other  Virginica  \n\n[150 rows x 8 columns]",
      "text/html": "<div>\n<style scoped>\n    .dataframe tbody tr th:only-of-type {\n        vertical-align: middle;\n    }\n\n    .dataframe tbody tr th {\n        vertical-align: top;\n    }\n\n    .dataframe thead th {\n        text-align: right;\n    }\n</style>\n<table border=\"1\" class=\"dataframe\">\n  <thead>\n    <tr style=\"text-align: right;\">\n      <th></th>\n      <th>sepal length (cm)</th>\n      <th>sepal width (cm)</th>\n      <th>petal length (cm)</th>\n      <th>petal width (cm)</th>\n      <th>name</th>\n      <th>setosa</th>\n      <th>versicolor</th>\n      <th>virginica</th>\n    </tr>\n  </thead>\n  <tbody>\n    <tr>\n      <th>0</th>\n      <td>-0.900681</td>\n      <td>1.032057</td>\n      <td>-1.341272</td>\n      <td>-1.312977</td>\n      <td>Setosa</td>\n      <td>Setosa</td>\n      <td>Other</td>\n      <td>Other</td>\n    </tr>\n    <tr>\n      <th>1</th>\n      <td>-1.143017</td>\n      <td>-0.124958</td>\n      <td>-1.341272</td>\n      <td>-1.312977</td>\n      <td>Setosa</td>\n      <td>Setosa</td>\n      <td>Other</td>\n      <td>Other</td>\n    </tr>\n    <tr>\n      <th>2</th>\n      <td>-1.385353</td>\n      <td>0.337848</td>\n      <td>-1.398138</td>\n      <td>-1.312977</td>\n      <td>Setosa</td>\n      <td>Setosa</td>\n      <td>Other</td>\n      <td>Other</td>\n    </tr>\n    <tr>\n      <th>3</th>\n      <td>-1.506521</td>\n      <td>0.106445</td>\n      <td>-1.284407</td>\n      <td>-1.312977</td>\n      <td>Setosa</td>\n      <td>Setosa</td>\n      <td>Other</td>\n      <td>Other</td>\n    </tr>\n    <tr>\n      <th>4</th>\n      <td>-1.021849</td>\n      <td>1.263460</td>\n      <td>-1.341272</td>\n      <td>-1.312977</td>\n      <td>Setosa</td>\n      <td>Setosa</td>\n      <td>Other</td>\n      <td>Other</td>\n    </tr>\n    <tr>\n      <th>...</th>\n      <td>...</td>\n      <td>...</td>\n      <td>...</td>\n      <td>...</td>\n      <td>...</td>\n      <td>...</td>\n      <td>...</td>\n      <td>...</td>\n    </tr>\n    <tr>\n      <th>145</th>\n      <td>1.038005</td>\n      <td>-0.124958</td>\n      <td>0.819624</td>\n      <td>1.447956</td>\n      <td>Virginica</td>\n      <td>Other</td>\n      <td>Other</td>\n      <td>Virginica</td>\n    </tr>\n    <tr>\n      <th>146</th>\n      <td>0.553333</td>\n      <td>-1.281972</td>\n      <td>0.705893</td>\n      <td>0.922064</td>\n      <td>Virginica</td>\n      <td>Other</td>\n      <td>Other</td>\n      <td>Virginica</td>\n    </tr>\n    <tr>\n      <th>147</th>\n      <td>0.795669</td>\n      <td>-0.124958</td>\n      <td>0.819624</td>\n      <td>1.053537</td>\n      <td>Virginica</td>\n      <td>Other</td>\n      <td>Other</td>\n      <td>Virginica</td>\n    </tr>\n    <tr>\n      <th>148</th>\n      <td>0.432165</td>\n      <td>0.800654</td>\n      <td>0.933356</td>\n      <td>1.447956</td>\n      <td>Virginica</td>\n      <td>Other</td>\n      <td>Other</td>\n      <td>Virginica</td>\n    </tr>\n    <tr>\n      <th>149</th>\n      <td>0.068662</td>\n      <td>-0.124958</td>\n      <td>0.762759</td>\n      <td>0.790591</td>\n      <td>Virginica</td>\n      <td>Other</td>\n      <td>Other</td>\n      <td>Virginica</td>\n    </tr>\n  </tbody>\n</table>\n<p>150 rows × 8 columns</p>\n</div>"
     },
     "metadata": {},
     "output_type": "display_data"
    }
   ],
   "source": [
    "# sepal length,sepal width,petal length,petal width,name\n",
    "df = pd.read_csv('data/iris.csv')[['sepal length', 'sepal width', 'petal length', 'petal width', 'name']].rename(columns={\n",
    "    'sepal length': 'sepal length (cm)',\n",
    "    'sepal width': 'sepal width (cm)',\n",
    "    'petal length': 'petal length (cm)',\n",
    "    'petal width': 'petal width (cm)',\n",
    "})\n",
    "\n",
    "numeric_cols = [\n",
    "    'sepal width (cm)', 'petal length (cm)', 'sepal length (cm)', 'petal width (cm)'\n",
    "]\n",
    "df[numeric_cols] = StandardScaler().fit_transform(df[numeric_cols])\n",
    "\n",
    "df['setosa'] = df['name'].apply(lambda name: 'Setosa' if name == 'Setosa' else 'Other')\n",
    "df['versicolor'] = df['name'].apply(lambda name: 'Versicolor' if name == 'Versicolor' else 'Other')\n",
    "df['virginica'] = df['name'].apply(lambda name: 'Virginica' if name == 'Virginica' else 'Other')\n",
    "\n",
    "display(df)"
   ],
   "metadata": {
    "collapsed": false,
    "pycharm": {
     "name": "#%%\n"
    }
   }
  },
  {
   "cell_type": "markdown",
   "source": [
    "## Teil 1\n",
    "\n",
    "TODO"
   ],
   "metadata": {
    "collapsed": false,
    "pycharm": {
     "name": "#%% md\n"
    }
   }
  },
  {
   "cell_type": "code",
   "execution_count": 28,
   "outputs": [
    {
     "name": "stdout",
     "output_type": "stream",
     "text": [
      "(120, 2) (30, 2) (120,) (30,)\n"
     ]
    }
   ],
   "source": [
    "from sklearn.model_selection import train_test_split\n",
    "from sklearn.pipeline import Pipeline\n",
    "from sklearn.linear_model import LogisticRegression\n",
    "\n",
    "X_train, X_test, y_train, y_test = train_test_split(df[['petal length (cm)', 'petal width (cm)']], df['setosa'], test_size=0.2)\n",
    "\n",
    "print(X_train.shape, X_test.shape, y_train.shape, y_test.shape)"
   ],
   "metadata": {
    "collapsed": false,
    "pycharm": {
     "name": "#%%\n"
    }
   }
  },
  {
   "cell_type": "code",
   "execution_count": 29,
   "outputs": [
    {
     "data": {
      "text/plain": "Pipeline(steps=[('std', StandardScaler()), ('clf', LogisticRegression())])",
      "text/html": "<style>#sk-container-id-3 {color: black;background-color: white;}#sk-container-id-3 pre{padding: 0;}#sk-container-id-3 div.sk-toggleable {background-color: white;}#sk-container-id-3 label.sk-toggleable__label {cursor: pointer;display: block;width: 100%;margin-bottom: 0;padding: 0.3em;box-sizing: border-box;text-align: center;}#sk-container-id-3 label.sk-toggleable__label-arrow:before {content: \"▸\";float: left;margin-right: 0.25em;color: #696969;}#sk-container-id-3 label.sk-toggleable__label-arrow:hover:before {color: black;}#sk-container-id-3 div.sk-estimator:hover label.sk-toggleable__label-arrow:before {color: black;}#sk-container-id-3 div.sk-toggleable__content {max-height: 0;max-width: 0;overflow: hidden;text-align: left;background-color: #f0f8ff;}#sk-container-id-3 div.sk-toggleable__content pre {margin: 0.2em;color: black;border-radius: 0.25em;background-color: #f0f8ff;}#sk-container-id-3 input.sk-toggleable__control:checked~div.sk-toggleable__content {max-height: 200px;max-width: 100%;overflow: auto;}#sk-container-id-3 input.sk-toggleable__control:checked~label.sk-toggleable__label-arrow:before {content: \"▾\";}#sk-container-id-3 div.sk-estimator input.sk-toggleable__control:checked~label.sk-toggleable__label {background-color: #d4ebff;}#sk-container-id-3 div.sk-label input.sk-toggleable__control:checked~label.sk-toggleable__label {background-color: #d4ebff;}#sk-container-id-3 input.sk-hidden--visually {border: 0;clip: rect(1px 1px 1px 1px);clip: rect(1px, 1px, 1px, 1px);height: 1px;margin: -1px;overflow: hidden;padding: 0;position: absolute;width: 1px;}#sk-container-id-3 div.sk-estimator {font-family: monospace;background-color: #f0f8ff;border: 1px dotted black;border-radius: 0.25em;box-sizing: border-box;margin-bottom: 0.5em;}#sk-container-id-3 div.sk-estimator:hover {background-color: #d4ebff;}#sk-container-id-3 div.sk-parallel-item::after {content: \"\";width: 100%;border-bottom: 1px solid gray;flex-grow: 1;}#sk-container-id-3 div.sk-label:hover label.sk-toggleable__label {background-color: #d4ebff;}#sk-container-id-3 div.sk-serial::before {content: \"\";position: absolute;border-left: 1px solid gray;box-sizing: border-box;top: 0;bottom: 0;left: 50%;z-index: 0;}#sk-container-id-3 div.sk-serial {display: flex;flex-direction: column;align-items: center;background-color: white;padding-right: 0.2em;padding-left: 0.2em;position: relative;}#sk-container-id-3 div.sk-item {position: relative;z-index: 1;}#sk-container-id-3 div.sk-parallel {display: flex;align-items: stretch;justify-content: center;background-color: white;position: relative;}#sk-container-id-3 div.sk-item::before, #sk-container-id-3 div.sk-parallel-item::before {content: \"\";position: absolute;border-left: 1px solid gray;box-sizing: border-box;top: 0;bottom: 0;left: 50%;z-index: -1;}#sk-container-id-3 div.sk-parallel-item {display: flex;flex-direction: column;z-index: 1;position: relative;background-color: white;}#sk-container-id-3 div.sk-parallel-item:first-child::after {align-self: flex-end;width: 50%;}#sk-container-id-3 div.sk-parallel-item:last-child::after {align-self: flex-start;width: 50%;}#sk-container-id-3 div.sk-parallel-item:only-child::after {width: 0;}#sk-container-id-3 div.sk-dashed-wrapped {border: 1px dashed gray;margin: 0 0.4em 0.5em 0.4em;box-sizing: border-box;padding-bottom: 0.4em;background-color: white;}#sk-container-id-3 div.sk-label label {font-family: monospace;font-weight: bold;display: inline-block;line-height: 1.2em;}#sk-container-id-3 div.sk-label-container {text-align: center;}#sk-container-id-3 div.sk-container {/* jupyter's `normalize.less` sets `[hidden] { display: none; }` but bootstrap.min.css set `[hidden] { display: none !important; }` so we also need the `!important` here to be able to override the default hidden behavior on the sphinx rendered scikit-learn.org. See: https://github.com/scikit-learn/scikit-learn/issues/21755 */display: inline-block !important;position: relative;}#sk-container-id-3 div.sk-text-repr-fallback {display: none;}</style><div id=\"sk-container-id-3\" class=\"sk-top-container\"><div class=\"sk-text-repr-fallback\"><pre>Pipeline(steps=[(&#x27;std&#x27;, StandardScaler()), (&#x27;clf&#x27;, LogisticRegression())])</pre><b>In a Jupyter environment, please rerun this cell to show the HTML representation or trust the notebook. <br />On GitHub, the HTML representation is unable to render, please try loading this page with nbviewer.org.</b></div><div class=\"sk-container\" hidden><div class=\"sk-item sk-dashed-wrapped\"><div class=\"sk-label-container\"><div class=\"sk-label sk-toggleable\"><input class=\"sk-toggleable__control sk-hidden--visually\" id=\"sk-estimator-id-7\" type=\"checkbox\" ><label for=\"sk-estimator-id-7\" class=\"sk-toggleable__label sk-toggleable__label-arrow\">Pipeline</label><div class=\"sk-toggleable__content\"><pre>Pipeline(steps=[(&#x27;std&#x27;, StandardScaler()), (&#x27;clf&#x27;, LogisticRegression())])</pre></div></div></div><div class=\"sk-serial\"><div class=\"sk-item\"><div class=\"sk-estimator sk-toggleable\"><input class=\"sk-toggleable__control sk-hidden--visually\" id=\"sk-estimator-id-8\" type=\"checkbox\" ><label for=\"sk-estimator-id-8\" class=\"sk-toggleable__label sk-toggleable__label-arrow\">StandardScaler</label><div class=\"sk-toggleable__content\"><pre>StandardScaler()</pre></div></div></div><div class=\"sk-item\"><div class=\"sk-estimator sk-toggleable\"><input class=\"sk-toggleable__control sk-hidden--visually\" id=\"sk-estimator-id-9\" type=\"checkbox\" ><label for=\"sk-estimator-id-9\" class=\"sk-toggleable__label sk-toggleable__label-arrow\">LogisticRegression</label><div class=\"sk-toggleable__content\"><pre>LogisticRegression()</pre></div></div></div></div></div></div></div>"
     },
     "execution_count": 29,
     "metadata": {},
     "output_type": "execute_result"
    }
   ],
   "source": [
    "model = Pipeline([\n",
    "    ('std', StandardScaler()),\n",
    "    ('clf', LogisticRegression())\n",
    "])\n",
    "model.fit(X_train, y_train)"
   ],
   "metadata": {
    "collapsed": false,
    "pycharm": {
     "name": "#%%\n"
    }
   }
  },
  {
   "cell_type": "code",
   "execution_count": 30,
   "outputs": [
    {
     "name": "stderr",
     "output_type": "stream",
     "text": [
      "/Users/beni/IdeaProjects/cas-machine-learning-slides/code-examples/venv/lib/python3.9/site-packages/sklearn/base.py:450: UserWarning: X does not have valid feature names, but StandardScaler was fitted with feature names\n",
      "  warnings.warn(\n"
     ]
    },
    {
     "data": {
      "text/plain": "<AxesSubplot:xlabel='petal length (cm)', ylabel='petal width (cm)'>"
     },
     "execution_count": 30,
     "metadata": {},
     "output_type": "execute_result"
    },
    {
     "data": {
      "text/plain": "<Figure size 432x288 with 1 Axes>",
      "image/png": "[encoded data removed]"
     },
     "metadata": {
      "needs_background": "light"
     },
     "output_type": "display_data"
    }
   ],
   "source": [
    "plot_decision_regions(\n",
    "    df[['petal length (cm)', 'petal width (cm)']].values,\n",
    "    df['setosa'],\n",
    "    model\n",
    ")"
   ],
   "metadata": {
    "collapsed": false,
    "pycharm": {
     "name": "#%%\n"
    }
   }
  },
  {
   "cell_type": "markdown",
   "source": [
    "## Teil 2"
   ],
   "metadata": {
    "collapsed": false,
    "pycharm": {
     "name": "#%% md\n"
    }
   }
  },
  {
   "cell_type": "code",
   "execution_count": 31,
   "outputs": [
    {
     "name": "stdout",
     "output_type": "stream",
     "text": [
      "Train Set: 100.0%\n",
      "Test Set: 100.0%\n"
     ]
    }
   ],
   "source": [
    "from sklearn.metrics import accuracy_score\n",
    "\n",
    "y_train_hat = model.predict(X_train)\n",
    "accuracy_score_train = accuracy_score(y_train, y_train_hat)\n",
    "print(\"Train Set:\", f\"{accuracy_score_train*100}%\")\n",
    "\n",
    "y_test_hat = model.predict(X_test)\n",
    "accuracy_score_test = accuracy_score(y_test, y_test_hat)\n",
    "print(\"Test Set:\", f\"{accuracy_score_test*100}%\")"
   ],
   "metadata": {
    "collapsed": false,
    "pycharm": {
     "name": "#%%\n"
    }
   }
  },
  {
   "cell_type": "markdown",
   "source": [],
   "metadata": {
    "collapsed": false,
    "pycharm": {
     "name": "#%% md\n"
    }
   }
  },
  {
   "cell_type": "code",
   "execution_count": 32,
   "outputs": [
    {
     "name": "stdout",
     "output_type": "stream",
     "text": [
      "Gelernte Betas:\n",
      "beta_0=-2.5671055098951583, beta_1=-2.3481989955257663, beta_2=-2.16243902913795\n"
     ]
    }
   ],
   "source": [
    "clf = model['clf']\n",
    "beta_0 = clf.intercept_[0]\n",
    "beta_1 = clf.coef_[0][0]\n",
    "beta_2 = clf.coef_[0][1]\n",
    "print(\"Gelernte Betas:\", f\"beta_0={beta_0}, beta_1={beta_1}, beta_2={beta_2}\", sep=\"\\n\")"
   ],
   "metadata": {
    "collapsed": false,
    "pycharm": {
     "name": "#%%\n"
    }
   }
  },
  {
   "cell_type": "markdown",
   "source": [
    "Und wir können die gelernten $\\vec{\\beta}$ auch noch visualisieren."
   ],
   "metadata": {
    "collapsed": false,
    "pycharm": {
     "name": "#%% md\n"
    }
   }
  },
  {
   "cell_type": "code",
   "execution_count": 32,
   "outputs": [],
   "source": [],
   "metadata": {
    "collapsed": false,
    "pycharm": {
     "name": "#%%\n"
    }
   }
  }
 ],
 "metadata": {
  "kernelspec": {
   "display_name": "Python 3",
   "language": "python",
   "name": "python3"
  },
  "language_info": {
   "codemirror_mode": {
    "name": "ipython",
    "version": 2
   },
   "file_extension": ".py",
   "mimetype": "text/x-python",
   "name": "python",
   "nbconvert_exporter": "python",
   "pygments_lexer": "ipython2",
   "version": "2.7.6"
  }
 },
 "nbformat": 4,
 "nbformat_minor": 0
}